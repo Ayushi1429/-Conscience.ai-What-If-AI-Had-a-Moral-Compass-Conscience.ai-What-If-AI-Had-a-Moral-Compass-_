{
  "nbformat": 4,
  "nbformat_minor": 0,
  "metadata": {
    "colab": {
      "provenance": [],
      "toc_visible": true,
      "authorship_tag": "ABX9TyNw9MYdSBpQSx6jVzCiun7r",
      "include_colab_link": true
    },
    "kernelspec": {
      "name": "python3",
      "display_name": "Python 3"
    },
    "language_info": {
      "name": "python"
    }
  },
  "cells": [
    {
      "cell_type": "markdown",
      "metadata": {
        "id": "view-in-github",
        "colab_type": "text"
      },
      "source": [
        "<a href=\"https://colab.research.google.com/github/Ayushi1429/-Conscience.ai-What-If-AI-Had-a-Moral-Compass-Conscience.ai-What-If-AI-Had-a-Moral-Compass-_/blob/main/Conscience_ai_%E2%80%93_What_If_AI_Had_a_Moral_Compass%3F.ipynb\" target=\"_parent\"><img src=\"https://colab.research.google.com/assets/colab-badge.svg\" alt=\"Open In Colab\"/></a>"
      ]
    },
    {
      "cell_type": "markdown",
      "source": [
        "**Step 1: Install Required Libraries**"
      ],
      "metadata": {
        "id": "IpJGuaxr9aki"
      }
    },
    {
      "cell_type": "code",
      "execution_count": 11,
      "metadata": {
        "id": "FZAFDSE09Izl"
      },
      "outputs": [],
      "source": [
        "!pip install streamlit plotly pyngrok -q\n"
      ]
    },
    {
      "cell_type": "markdown",
      "source": [
        "**Step 2: Save the App File**"
      ],
      "metadata": {
        "id": "FtT6Vp9d9w5O"
      }
    },
    {
      "cell_type": "code",
      "source": [
        "%%writefile app.py\n",
        "import streamlit as st\n",
        "import plotly.graph_objects as go\n",
        "\n",
        "st.set_page_config(page_title=\"Conscience.ai\", layout=\"centered\")\n",
        "st.title(\"🧠⚖️ Conscience.ai – What If AI Had a Moral Compass?\")\n",
        "st.markdown(\"### 🫵 Welcome, Decision-Maker.\")\n",
        "\n",
        "\n",
        "# Ethical Dilemmas\n",
        "scenarios = {\n",
        "    \"📉 Layoffs or Innovation?\":\n",
        "        \"The company is losing money. Should we fire 1000 employees or invest in risky innovation?\",\n",
        "    \"🕵️‍♂️ CEO Scandal\":\n",
        "        \"The CEO is caught in a personal scandal. Fire him or protect his privacy until proven guilty?\",\n",
        "    \"💥 AI Failure\":\n",
        "        \"AI wrongly bans 10,000 users. Apologize publicly or quietly fix it?\"\n",
        "}\n",
        "\n",
        "# Moral Personas (Updated)\n",
        "personas = {\n",
        "    \"🚀 Elon AI\": {\n",
        "        \"description\": \"Bold innovation, high risk, practical outcomes.\",\n",
        "        \"score\": [90, 40, 60, 85]  # [Profit, Empathy, Justice, Impact]\n",
        "    },\n",
        "    \"🧨 Hitler AI\": {\n",
        "        \"description\": \"Strict order, zero empathy, control above all.\",\n",
        "        \"score\": [80, 10, 95, 70]\n",
        "    },\n",
        "    \"🧘 Zen Monk AI\": {\n",
        "        \"description\": \"Long-term peace, harmony, and mindful decisions.\",\n",
        "        \"score\": [50, 85, 75, 65]\n",
        "    },\n",
        "    \"🧠 Your Human Response\": {\n",
        "        \"description\": \"Your own personal decision as a human leader.\",\n",
        "        \"score\": []\n",
        "    }\n",
        "}\n",
        "\n",
        "# UI Elements\n",
        "scenario = st.selectbox(\"Choose an Ethical Dilemma\", list(scenarios.keys()))\n",
        "st.write(\"### 🧪 Scenario:\")\n",
        "st.info(scenarios[scenario])\n",
        "\n",
        "selected_personas = st.multiselect(\"Choose Moral Personalities to Compare\", list(personas.keys()), default=[\"🚀 Elon AI\", \"🧘 Zen Monk AI\", \"🧠 Your Human Response\"])\n",
        "\n",
        "human_response = \"\"\n",
        "if \"🧠 Your Human Response\" in selected_personas:\n",
        "    human_response = st.text_area(\"🧠 Your Human Moral Decision\")\n",
        "\n",
        "# Human Scoring\n",
        "def score_human_response(txt):\n",
        "    txt = txt.lower()\n",
        "    return [\n",
        "        50 + 30*(\"profit\" in txt or \"revenue\" in txt),  # Profit\n",
        "        40 + 50*(\"empathy\" in txt or \"care\" in txt),    # Empathy\n",
        "        40 + 40*(\"justice\" in txt or \"fair\" in txt),    # Justice\n",
        "        50 + 30*(\"impact\" in txt or \"future\" in txt)    # Impact\n",
        "    ]\n",
        "\n",
        "# Visualize Decisions\n",
        "if st.button(\"🧭 Compare Moral Decisions\"):\n",
        "    fig = go.Figure()\n",
        "    labels = [\"Profit\", \"Empathy\", \"Justice\", \"Impact\", \"Profit\"]\n",
        "\n",
        "    for key in selected_personas:\n",
        "        if key == \"🧠 Your Human Response\":\n",
        "            if human_response.strip() == \"\":\n",
        "                st.warning(\"Please write your human response.\")\n",
        "                continue\n",
        "            scores = score_human_response(human_response)\n",
        "        else:\n",
        "            scores = personas[key][\"score\"]\n",
        "\n",
        "        scores.append(scores[0])  # Close radar shape\n",
        "        fig.add_trace(go.Scatterpolar(r=scores, theta=labels, fill='toself', name=key))\n",
        "\n",
        "    fig.update_layout(\n",
        "        polar=dict(radialaxis=dict(visible=True, range=[0, 100])),\n",
        "        showlegend=True\n",
        "    )\n",
        "    st.plotly_chart(fig)\n",
        "    st.markdown(\"---\")\n",
        "st.markdown(\"*🛠️ Built with conscience by Ayushi Baraskar*\")\n"
      ],
      "metadata": {
        "colab": {
          "base_uri": "https://localhost:8080/"
        },
        "id": "WCAAfXAN91nm",
        "outputId": "bc9dbfb3-1b79-4d7a-9660-fc5c31fc6655"
      },
      "execution_count": 12,
      "outputs": [
        {
          "output_type": "stream",
          "name": "stdout",
          "text": [
            "Overwriting app.py\n"
          ]
        }
      ]
    },
    {
      "cell_type": "markdown",
      "source": [
        "**Step 3: Add Ngrok Token**"
      ],
      "metadata": {
        "id": "gx0GUkQe97S9"
      }
    },
    {
      "cell_type": "code",
      "source": [
        "!ngrok config add-authtoken 30oRJ8KZq8SvnwWWHVPA8iim43v_62Xy9wSeLMKLx7fHj6vTt\n"
      ],
      "metadata": {
        "colab": {
          "base_uri": "https://localhost:8080/"
        },
        "id": "AR7BzwgO-ESs",
        "outputId": "2f95644f-a900-4476-f61d-870b1dfe6d59"
      },
      "execution_count": 13,
      "outputs": [
        {
          "output_type": "stream",
          "name": "stdout",
          "text": [
            "Authtoken saved to configuration file: /root/.config/ngrok/ngrok.yml\n"
          ]
        }
      ]
    },
    {
      "cell_type": "markdown",
      "source": [
        "**Step 4: Run the App + Get the Link**"
      ],
      "metadata": {
        "id": "UWI6KFZM-Vrf"
      }
    },
    {
      "cell_type": "code",
      "source": [
        "from pyngrok import ngrok\n",
        "ngrok.kill()  # optional to clear old ones\n",
        "public_url = ngrok.connect(8501)\n",
        "print(\"Public URL:\", public_url)\n"
      ],
      "metadata": {
        "colab": {
          "base_uri": "https://localhost:8080/"
        },
        "id": "7b4tR9NlDEkU",
        "outputId": "5a1de38d-7d1e-4d97-fe0d-1a879be34951"
      },
      "execution_count": 16,
      "outputs": [
        {
          "output_type": "stream",
          "name": "stdout",
          "text": [
            "Public URL: NgrokTunnel: \"https://2a22d9413ceb.ngrok-free.app\" -> \"http://localhost:8501\"\n"
          ]
        }
      ]
    }
  ]
}